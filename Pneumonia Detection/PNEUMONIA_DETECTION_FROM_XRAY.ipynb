{
  "nbformat": 4,
  "nbformat_minor": 0,
  "metadata": {
    "colab": {
      "name": "PNEUMONIA_TRAINING.ipynb",
      "provenance": [],
      "mount_file_id": "1szuAGW6V4s_x3RinaqdgKJhlkYUSDsaL",
      "authorship_tag": "ABX9TyOzpWvewhIxXPGgwHck48MN"
    },
    "kernelspec": {
      "name": "python3",
      "display_name": "Python 3"
    },
    "language_info": {
      "name": "python"
    }
  },
  "cells": [
    {
      "cell_type": "code",
      "metadata": {
        "id": "ZNZ8w83HaV_S"
      },
      "source": [
        "import pickle\n",
        "import tensorflow as tf\n",
        "from tensorflow.keras.datasets import cifar10\n",
        "from tensorflow.keras.preprocessing.image import ImageDataGenerator\n",
        "from tensorflow.keras.models import Sequential\n",
        "from tensorflow.keras.layers import Dense, Dropout, Activation, Flatten\n",
        "from tensorflow.keras.layers import Conv2D, MaxPooling2D\n",
        "from tensorflow.keras.callbacks import TensorBoard\n",
        "\n",
        "X = []\n",
        "y = []\n",
        "\n",
        "pickle_in = open(\"/content/drive/MyDrive/XRAY_PNEUMONIA/Pickles/X.pickle\",\"rb\")\n",
        "X = pickle.load(pickle_in)\n",
        "\n",
        "pickle_in = open(\"/content/drive/MyDrive/XRAY_PNEUMONIA/Pickles/y.pickle\",\"rb\")\n",
        "y = pickle.load(pickle_in)\n",
        "\n",
        "y = np.array(y)\n",
        "#type(y[0])\n"
      ],
      "execution_count": null,
      "outputs": []
    },
    {
      "cell_type": "code",
      "metadata": {
        "colab": {
          "base_uri": "https://localhost:8080/"
        },
        "id": "Z4843TYRa1xK",
        "outputId": "4496c824-4f7f-40de-9236-0e99ca2bc669"
      },
      "source": [
        "X = X/255.0\n",
        "\n",
        "img_width = 100\n",
        "img_height = 100\n",
        "\n",
        "cnn = Sequential()\n",
        "cnn.add(Conv2D(32, (3, 3), activation=\"relu\", input_shape=(img_width, img_height, 1)))\n",
        "cnn.add(MaxPooling2D(pool_size = (2, 2)))\n",
        "cnn.add(Conv2D(32, (3, 3), activation=\"relu\", input_shape=(img_width, img_height, 1)))\n",
        "cnn.add(MaxPooling2D(pool_size = (2, 2)))\n",
        "cnn.add(Conv2D(32, (3, 3), activation=\"relu\", input_shape=(img_width, img_height, 1)))\n",
        "cnn.add(MaxPooling2D(pool_size = (2, 2)))\n",
        "cnn.add(Conv2D(64, (3, 3), activation=\"relu\", input_shape=(img_width, img_height, 1)))\n",
        "cnn.add(MaxPooling2D(pool_size = (2, 2)))\n",
        "cnn.add(Conv2D(64, (3, 3), activation=\"relu\", input_shape=(img_width, img_height, 1)))\n",
        "cnn.add(MaxPooling2D(pool_size = (2, 2)))\n",
        "cnn.add(Flatten())\n",
        "cnn.add(Dense(activation = 'relu', units = 128))\n",
        "cnn.add(Dense(activation = 'relu', units = 64))\n",
        "cnn.add(Dense(activation = 'sigmoid', units = 1))\n",
        "cnn.compile(optimizer = 'adam', loss = 'binary_crossentropy', metrics = ['accuracy'])\n",
        "\n",
        "model.fit(X, y,\n",
        "          batch_size=32,\n",
        "          epochs=10,\n",
        "          validation_split=0.3,\n",
        "          callbacks=[tensorboard])\n"
      ],
      "execution_count": null,
      "outputs": [
        {
          "output_type": "stream",
          "name": "stdout",
          "text": [
            "Epoch 1/10\n",
            "70/70 [==============================] - 406s 6s/step - loss: 0.6934 - accuracy: 0.4896 - val_loss: 0.6931 - val_accuracy: 0.5011\n",
            "Epoch 2/10\n",
            "70/70 [==============================] - 444s 6s/step - loss: 0.6934 - accuracy: 0.4905 - val_loss: 0.6932 - val_accuracy: 0.4989\n",
            "Epoch 3/10\n",
            "70/70 [==============================] - 444s 6s/step - loss: 0.6935 - accuracy: 0.5005 - val_loss: 0.6932 - val_accuracy: 0.4989\n",
            "Epoch 4/10\n",
            "70/70 [==============================] - 406s 6s/step - loss: 0.6932 - accuracy: 0.4797 - val_loss: 0.6931 - val_accuracy: 0.5011\n",
            "Epoch 5/10\n",
            "70/70 [==============================] - 443s 6s/step - loss: 0.6934 - accuracy: 0.4995 - val_loss: 0.6931 - val_accuracy: 0.5011\n",
            "Epoch 6/10\n",
            "70/70 [==============================] - 441s 6s/step - loss: 0.6933 - accuracy: 0.4887 - val_loss: 0.6932 - val_accuracy: 0.4989\n",
            "Epoch 7/10\n",
            "70/70 [==============================] - 443s 6s/step - loss: 0.6933 - accuracy: 0.5005 - val_loss: 0.6932 - val_accuracy: 0.4989\n",
            "Epoch 8/10\n",
            "70/70 [==============================] - 443s 6s/step - loss: 0.6933 - accuracy: 0.4914 - val_loss: 0.6931 - val_accuracy: 0.5011\n",
            "Epoch 9/10\n",
            "70/70 [==============================] - 405s 6s/step - loss: 0.6933 - accuracy: 0.4941 - val_loss: 0.6931 - val_accuracy: 0.5011\n",
            "Epoch 10/10\n",
            "70/70 [==============================] - 404s 6s/step - loss: 0.6933 - accuracy: 0.4896 - val_loss: 0.6931 - val_accuracy: 0.5011\n"
          ]
        },
        {
          "output_type": "execute_result",
          "data": {
            "text/plain": [
              "<keras.callbacks.History at 0x7f12763c0790>"
            ]
          },
          "metadata": {},
          "execution_count": 34
        }
      ]
    }
  ]
}